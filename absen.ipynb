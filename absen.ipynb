{
 "cells": [
  {
   "cell_type": "markdown",
   "metadata": {},
   "source": [
    "# AUTOMATIC ATTENDANCE SYSTEM USING FACE DETECTION AND FACE RECOGNITION"
   ]
  },
  {
   "cell_type": "markdown",
   "metadata": {},
   "source": [
    "Import library yang dibutuhkan."
   ]
  },
  {
   "cell_type": "code",
   "execution_count": 1,
   "metadata": {},
   "outputs": [],
   "source": [
    "import cv2\n",
    "import os\n",
    "import numpy as np\n",
    "import csv\n",
    "import time\n",
    "import tkinter as tk\n",
    "from tkinter import messagebox\n",
    "from PIL import Image, ImageTk"
   ]
  },
  {
   "cell_type": "markdown",
   "metadata": {},
   "source": [
    "Fungsi untuk menangkap gambar untuk dijadikan sebuah dataset pengenalan wajah."
   ]
  },
  {
   "cell_type": "code",
   "execution_count": null,
   "metadata": {},
   "outputs": [],
   "source": [
    "def capture_images(name, npm, save_path='dataset'):\n",
    "    if not os.path.exists(save_path):\n",
    "        os.makedirs(save_path)\n",
    "    \n",
    "    user_folder = os.path.join(save_path, f\"{name}_{npm}\")\n",
    "    if not os.path.exists(user_folder):\n",
    "        os.makedirs(user_folder)\n",
    "\n",
    "    camera = cv2.VideoCapture(0)\n",
    "    face_ref = cv2.CascadeClassifier(cv2.data.haarcascades + \"haarcascade_frontalface_default.xml\")\n",
    "    count = 0\n",
    "\n",
    "    # Countdown\n",
    "    start_time = time.time()\n",
    "    while True:\n",
    "        ret, frame = camera.read()\n",
    "        if not ret:\n",
    "            break\n",
    "        \n",
    "        elapsed_time = int(time.time() - start_time)\n",
    "        countdown = 5 - elapsed_time\n",
    "        if countdown > 0:\n",
    "            cv2.putText(frame, f\"Starting in {countdown}\", (50, 50), cv2.FONT_HERSHEY_SIMPLEX, 1, (0, 0, 255), 2, cv2.LINE_AA)\n",
    "        else:\n",
    "            break\n",
    "        \n",
    "        cv2.imshow(\"Capturing Images\", frame)\n",
    "        cv2.waitKey(1)\n",
    "\n",
    "    while count < 50:\n",
    "        ret, frame = camera.read()\n",
    "        if not ret:\n",
    "            break\n",
    "        \n",
    "        gray = cv2.cvtColor(frame, cv2.COLOR_BGR2GRAY)\n",
    "        faces = face_ref.detectMultiScale(gray, scaleFactor=1.1, minNeighbors=1)\n",
    "\n",
    "        for (x, y, w, h) in faces:\n",
    "            face = gray[y:y+h, x:x+w]\n",
    "            count += 1\n",
    "            cv2.imwrite(os.path.join(user_folder, f\"{name}_{npm}_{count}.jpg\"), face)\n",
    "            cv2.rectangle(frame, (x, y), (x+w, y+h), (255, 0, 0), 2)\n",
    "        \n",
    "        cv2.imshow(\"Capturing Images\", frame)\n",
    "        if cv2.waitKey(1) & 0xFF == ord('q'):\n",
    "            break\n",
    "\n",
    "    camera.release()\n",
    "    cv2.destroyAllWindows()"
   ]
  },
  {
   "cell_type": "markdown",
   "metadata": {},
   "source": [
    "Fungsi untuk melatih data wajah menggunakan algoritma LBPH atau Local Binary Pattern Histogram untuk mengenali wajah (Face Recognizer)."
   ]
  },
  {
   "cell_type": "code",
   "execution_count": null,
   "metadata": {},
   "outputs": [],
   "source": [
    "def train_model(dataset_path='dataset', model_save_path='models/face_recognition_model.xml'):\n",
    "    face_recognizer = cv2.face.LBPHFaceRecognizer_create()\n",
    "    faces = []\n",
    "    labels = []\n",
    "    label_dict = {}\n",
    "\n",
    "    for idx, user_folder in enumerate(os.listdir(dataset_path)):\n",
    "        user_path = os.path.join(dataset_path, user_folder)\n",
    "        if not os.path.isdir(user_path):\n",
    "            continue\n",
    "        \n",
    "        name, npm = user_folder.split('_')\n",
    "        label_dict[idx] = (name, npm)\n",
    "\n",
    "        for image_name in os.listdir(user_path):\n",
    "            image_path = os.path.join(user_path, image_name)\n",
    "            image = cv2.imread(image_path, cv2.IMREAD_GRAYSCALE)\n",
    "            faces.append(image)\n",
    "            labels.append(idx)\n",
    "    \n",
    "    face_recognizer.train(faces, np.array(labels))\n",
    "    if not os.path.exists('models'):\n",
    "        os.makedirs('models')\n",
    "    face_recognizer.save(model_save_path)\n",
    "\n",
    "    # Save label\n",
    "    with open(model_save_path.replace('.xml', '_labels.csv'), 'w', newline='') as f:\n",
    "        writer = csv.writer(f)\n",
    "        for idx, (name, npm) in label_dict.items():\n",
    "            writer.writerow([idx, name, npm])"
   ]
  },
  {
   "cell_type": "markdown",
   "metadata": {},
   "source": [
    "Fungsi untuk mengambil data absen melalui pengenalan wajah. Dicatat ke dalam file csv."
   ]
  },
  {
   "cell_type": "code",
   "execution_count": null,
   "metadata": {},
   "outputs": [],
   "source": [
    "def recognize_and_attend(model_path='models/face_recognition_model.xml', output_csv='attendance.csv'):\n",
    "    face_recognizer = cv2.face.LBPHFaceRecognizer_create()\n",
    "    face_recognizer.read(model_path)\n",
    "\n",
    "    # Load label\n",
    "    label_dict = {}\n",
    "    with open(model_path.replace('.xml', '_labels.csv'), 'r') as f:\n",
    "        reader = csv.reader(f)\n",
    "        for row in reader:\n",
    "            label_dict[int(row[0])] = (row[1], row[2])\n",
    "\n",
    "    camera = cv2.VideoCapture(0)\n",
    "    face_ref = cv2.CascadeClassifier(cv2.data.haarcascades + \"haarcascade_frontalface_default.xml\")\n",
    "    attendance_set = set()\n",
    "    threshold = 60  # batas confidence\n",
    "    recognized = False\n",
    "\n",
    "    while True:\n",
    "        ret, frame = camera.read()\n",
    "        if not ret:\n",
    "            break\n",
    "\n",
    "        gray = cv2.cvtColor(frame, cv2.COLOR_BGR2GRAY)\n",
    "        faces = face_ref.detectMultiScale(gray, scaleFactor=1.1, minNeighbors=2)\n",
    "\n",
    "        for (x, y, w, h) in faces:\n",
    "            face = gray[y:y+h, x:x+w]\n",
    "            label, confidence = face_recognizer.predict(face)\n",
    "            name, npm = \"Unknown\", \"\"\n",
    "            if confidence < threshold:\n",
    "                name, npm = label_dict.get(label, (\"Unknown\", \"\"))\n",
    "                attendance_set.add((name, npm))\n",
    "                recognized = True\n",
    "\n",
    "            cv2.rectangle(frame, (x, y), (x+w, y+h), (0, 0, 255), 2)\n",
    "            cv2.putText(frame, f\"{name} {round(confidence, 2)}\", (x, y - 10), cv2.FONT_HERSHEY_SIMPLEX, 0.9, (0, 255, 0), 2)\n",
    "        \n",
    "        cv2.imshow(\"Attendance\", frame)\n",
    "        if cv2.waitKey(1) & 0xFF == ord('q'):\n",
    "            break\n",
    "\n",
    "    camera.release()\n",
    "    cv2.destroyAllWindows()\n",
    "\n",
    "    if recognized:\n",
    "        for name, npm in attendance_set:\n",
    "            with open(output_csv, 'a', newline='') as f:\n",
    "                writer = csv.writer(f)\n",
    "                writer.writerow([name, npm, time.strftime(\"%Y-%m-%d %H:%M:%S\")])\n",
    "                # Display welcome message\n",
    "    else:\n",
    "        messagebox.showinfo(\"Unrecognized\", \"Wajah tidak dikenali!!\")"
   ]
  },
  {
   "cell_type": "markdown",
   "metadata": {},
   "source": [
    "## GUI"
   ]
  },
  {
   "cell_type": "markdown",
   "metadata": {},
   "source": [
    "Setting buttons dan fungsi dari buttonnya ketika dijalankan."
   ]
  },
  {
   "cell_type": "code",
   "execution_count": null,
   "metadata": {},
   "outputs": [],
   "source": [
    "def register():\n",
    "    name = entry_name.get()\n",
    "    npm = entry_npm.get()\n",
    "    capture_images(name, npm)\n",
    "    messagebox.showinfo(\"Info\", f\"User {name} registered successfully!\")\n",
    "\n",
    "def train():\n",
    "    train_model()\n",
    "    messagebox.showinfo(\"Info\", \"Model trained successfully!\")\n",
    "\n",
    "def attend():\n",
    "    recognize_and_attend()\n",
    "    messagebox.showinfo(\"Info\", \"Attendance recorded successfully!\")"
   ]
  },
  {
   "cell_type": "markdown",
   "metadata": {},
   "source": [
    "Setting GUI"
   ]
  },
  {
   "cell_type": "code",
   "execution_count": null,
   "metadata": {},
   "outputs": [],
   "source": [
    "app = tk.Tk()\n",
    "app.title(\"Attendance System\")\n",
    "\n",
    "app.configure(bg='#222831')\n",
    "\n",
    "def set_font(widget, size):\n",
    "    return ('Helvetica', size)\n",
    "\n",
    "label_font = set_font(tk.Label, 12)\n",
    "entry_font = set_font(tk.Entry, 12)\n",
    "button_font = set_font(tk.Button, 12)\n",
    "title_font = ('Helvetica', 20, 'bold')\n",
    "\n",
    "title_label = tk.Label(app, text=\"AUTOMATIC ATTENDANCE USING FACE RECOGNITION\", font=title_font, bg='#31363F', fg='white', pady=20, padx=20)\n",
    "title_label.grid(row=0, columnspan=3, pady=(20, 10))\n",
    "\n",
    "tk.Label(app, text=\"Name\", font=label_font, bg='#222831', fg='white').grid(row=1, column=0, padx=10, pady=10)\n",
    "tk.Label(app, text=\"NPM\", font=label_font, bg='#222831', fg='white').grid(row=2, column=0, padx=10, pady=10)\n",
    "\n",
    "def round_entry(entry, size=15):\n",
    "    entry.configure(relief='flat', highlightthickness=1, highlightbackground='#424242')\n",
    "    entry.configure(bd=0, highlightcolor='#424242', highlightbackground='#424242', insertbackground='#E0E0E0', insertwidth=2)\n",
    "    entry.bind('<FocusIn>', lambda e: e.widget.config(highlightbackground='#E91E63', highlightcolor='#E91E63'))\n",
    "    entry.bind('<FocusOut>', lambda e: e.widget.config(highlightbackground='#424242', highlightcolor='#424242'))\n",
    "\n",
    "entry_name = tk.Entry(app, font=entry_font, width=30, bg='#424242', fg='white', insertbackground='white')\n",
    "entry_npm = tk.Entry(app, font=entry_font, width=30, bg='#424242', fg='white', insertbackground='white')\n",
    "round_entry(entry_name)\n",
    "round_entry(entry_npm)\n",
    "\n",
    "entry_name.grid(row=1, column=1, padx=10, pady=10)\n",
    "entry_npm.grid(row=2, column=1, padx=10, pady=10)\n",
    "\n",
    "img_path = 'img/absensi12.png' \n",
    "img = Image.open(img_path)\n",
    "img = img.resize((200, 150), Image.LANCZOS)\n",
    "img = ImageTk.PhotoImage(img)\n",
    "\n",
    "img_label = tk.Label(app, image=img, bg='#222831')\n",
    "img_label.grid(row=1, column=2, rowspan=2, padx=10, pady=10)\n",
    "\n",
    "tk.Button(app, text=\"Register\", font=button_font, command=register, bg='#E91E63', fg='white', relief='flat').grid(row=3, column=0, padx=10, pady=20)\n",
    "tk.Button(app, text=\"Train Model\", font=button_font, command=train, bg='#2196F3', fg='white', relief='flat').grid(row=3, column=1, padx=10, pady=20)\n",
    "tk.Button(app, text=\"Attend\", font=button_font, command=attend, bg='#FF5722', fg='white', relief='flat').grid(row=3, column=2, padx=10, pady=20)\n",
    "\n",
    "app.mainloop()"
   ]
  }
 ],
 "metadata": {
  "kernelspec": {
   "display_name": "Python 3",
   "language": "python",
   "name": "python3"
  },
  "language_info": {
   "codemirror_mode": {
    "name": "ipython",
    "version": 3
   },
   "file_extension": ".py",
   "mimetype": "text/x-python",
   "name": "python",
   "nbconvert_exporter": "python",
   "pygments_lexer": "ipython3",
   "version": "3.10.8"
  }
 },
 "nbformat": 4,
 "nbformat_minor": 2
}
